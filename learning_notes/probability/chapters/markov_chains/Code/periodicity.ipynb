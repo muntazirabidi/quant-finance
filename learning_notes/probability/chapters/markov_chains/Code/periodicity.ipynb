{
 "cells": [
  {
   "cell_type": "code",
   "execution_count": 7,
   "metadata": {},
   "outputs": [
    {
     "data": {
      "text/plain": [
       "array([[0.        , 0.6875    , 0.        , 0.3125    , 0.        ],\n",
       "       [0.44791667, 0.        , 0.44791667, 0.        , 0.10416667],\n",
       "       [0.        , 0.65625   , 0.        , 0.34375   , 0.        ],\n",
       "       [0.4375    , 0.        , 0.4375    , 0.        , 0.125     ],\n",
       "       [0.        , 0.625     , 0.        , 0.375     , 0.        ]])"
      ]
     },
     "execution_count": 7,
     "metadata": {},
     "output_type": "execute_result"
    }
   ],
   "source": [
    "import numpy as np\n",
    "\n",
    "def n_step_transition(P, n):\n",
    "    \"\"\"\n",
    "    Calculate n-step transition probabilities\n",
    "\n",
    "    Args:\n",
    "    P: transition matrix\n",
    "    n: number of steps\n",
    "\n",
    "    Returns:\n",
    "    P^n: n-step transition matrix\n",
    "    \"\"\"\n",
    "    return np.linalg.matrix_power(P, n)\n",
    "\n",
    "P = np.array([[0,1,0,0,0],\n",
    "             [1/2,0,1/2,0,0],\n",
    "             [0,1/2,0,1/2,0],\n",
    "             [1/3,0,1/3,0,1/3],\n",
    "             [0,0,0,1,0]])\n",
    "\n",
    "n = 5\n",
    "\n",
    "n_step_transition(P, n)"
   ]
  },
  {
   "cell_type": "code",
   "execution_count": null,
   "metadata": {},
   "outputs": [],
   "source": []
  }
 ],
 "metadata": {
  "kernelspec": {
   "display_name": "base",
   "language": "python",
   "name": "python3"
  },
  "language_info": {
   "codemirror_mode": {
    "name": "ipython",
    "version": 3
   },
   "file_extension": ".py",
   "mimetype": "text/x-python",
   "name": "python",
   "nbconvert_exporter": "python",
   "pygments_lexer": "ipython3",
   "version": "3.12.2"
  }
 },
 "nbformat": 4,
 "nbformat_minor": 2
}
