{
 "cells": [
  {
   "cell_type": "code",
   "execution_count": 3,
   "metadata": {},
   "outputs": [
    {
     "data": {
      "text/plain": [
       "array([[0.32, 0.41, 0.27],\n",
       "       [0.17, 0.51, 0.32],\n",
       "       [0.22, 0.46, 0.32]])"
      ]
     },
     "execution_count": 3,
     "metadata": {},
     "output_type": "execute_result"
    }
   ],
   "source": [
    "import numpy as np \n",
    "\n",
    "P = np.array([[0.5,0.3,0.2],\n",
    "              [0.1,0.6,0.3], \n",
    "              [0.2,0.4,0.4]])\n",
    "\n",
    "np.dot(P,P)"
   ]
  },
  {
   "cell_type": "code",
   "execution_count": 4,
   "metadata": {},
   "outputs": [
    {
     "data": {
      "text/plain": [
       "array([[0.255, 0.45 , 0.295],\n",
       "       [0.2  , 0.485, 0.315],\n",
       "       [0.22 , 0.47 , 0.31 ]])"
      ]
     },
     "execution_count": 4,
     "metadata": {},
     "output_type": "execute_result"
    }
   ],
   "source": [
    "np.dot(np.dot(P,P), P)"
   ]
  },
  {
   "cell_type": "code",
   "execution_count": 5,
   "metadata": {},
   "outputs": [
    {
     "data": {
      "text/plain": [
       "{1: 1, -alpha - beta + 1: 1}"
      ]
     },
     "execution_count": 5,
     "metadata": {},
     "output_type": "execute_result"
    }
   ],
   "source": [
    "from sympy import symbols, Matrix\n",
    "\n",
    "# Define variables for alpha and beta\n",
    "alpha, beta = symbols('alpha beta')\n",
    "\n",
    "# Define the matrix P\n",
    "P = Matrix([\n",
    "    [1 - alpha, alpha],\n",
    "    [beta, 1 - beta]\n",
    "])\n",
    "\n",
    "# Calculate the eigenvalues of P\n",
    "eigenvalues = P.eigenvals()\n",
    "\n",
    "eigenvalues\n"
   ]
  },
  {
   "cell_type": "code",
   "execution_count": null,
   "metadata": {},
   "outputs": [],
   "source": []
  }
 ],
 "metadata": {
  "kernelspec": {
   "display_name": "base",
   "language": "python",
   "name": "python3"
  },
  "language_info": {
   "codemirror_mode": {
    "name": "ipython",
    "version": 3
   },
   "file_extension": ".py",
   "mimetype": "text/x-python",
   "name": "python",
   "nbconvert_exporter": "python",
   "pygments_lexer": "ipython3",
   "version": "3.12.2"
  }
 },
 "nbformat": 4,
 "nbformat_minor": 2
}
