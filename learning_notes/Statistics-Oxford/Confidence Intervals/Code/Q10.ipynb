{
 "cells": [
  {
   "cell_type": "code",
   "execution_count": 2,
   "metadata": {},
   "outputs": [
    {
     "name": "stdout",
     "output_type": "stream",
     "text": [
      "Sample Mean: 15.60\n",
      "Sample Standard Deviation: 4.48\n",
      "\n",
      "t-statistic: 1.7658\n",
      "Two-sided p-value: 0.1112\n",
      "One-sided p-value (greater): 0.0556\n",
      "\n",
      "Critical value (two-sided, α=0.05): ±2.2622\n",
      "Critical value (one-sided, α=0.05): 1.8331\n",
      "\n",
      "Two-sided t-test results using scipy:\n",
      "t-statistic: 1.7658\n",
      "p-value: 0.1112\n"
     ]
    }
   ],
   "source": [
    "import numpy as np\n",
    "from scipy import stats\n",
    "\n",
    "# Given data\n",
    "x = np.array([10, 11, 12, 13, 15, 16, 17, 18, 19, 25])\n",
    "true_mean = 13.1\n",
    "\n",
    "# Calculate sample statistics\n",
    "sample_mean = np.mean(x)\n",
    "sample_std = np.std(x, ddof=1)  # ddof=1 for sample standard deviation\n",
    "n = len(x)\n",
    "\n",
    "print(f\"Sample Mean: {sample_mean:.2f}\")\n",
    "print(f\"Sample Standard Deviation: {sample_std:.2f}\")\n",
    "\n",
    "# Calculate t-statistic\n",
    "t_stat = np.sqrt(n) * (sample_mean - true_mean) / sample_std\n",
    "print(f\"\\nt-statistic: {t_stat:.4f}\")\n",
    "\n",
    "# Two-sided test\n",
    "df = n - 1  # degrees of freedom\n",
    "p_value_two_sided = 2 * (1 - stats.t.cdf(abs(t_stat), df))\n",
    "print(f\"Two-sided p-value: {p_value_two_sided:.4f}\")\n",
    "\n",
    "# One-sided test (testing if mean is higher than true value)\n",
    "p_value_one_sided = 1 - stats.t.cdf(t_stat, df)\n",
    "print(f\"One-sided p-value (greater): {p_value_one_sided:.4f}\")\n",
    "\n",
    "# Critical values for comparison\n",
    "t_crit_two_sided = stats.t.ppf(0.975, df)\n",
    "t_crit_one_sided = stats.t.ppf(0.95, df)\n",
    "print(f\"\\nCritical value (two-sided, α=0.05): ±{t_crit_two_sided:.4f}\")\n",
    "print(f\"Critical value (one-sided, α=0.05): {t_crit_one_sided:.4f}\")\n",
    "\n",
    "# Using scipy's built-in t-test function for verification\n",
    "two_sided_test = stats.ttest_1samp(x, true_mean)\n",
    "print(f\"\\nTwo-sided t-test results using scipy:\")\n",
    "print(f\"t-statistic: {two_sided_test.statistic:.4f}\")\n",
    "print(f\"p-value: {two_sided_test.pvalue:.4f}\")"
   ]
  },
  {
   "cell_type": "code",
   "execution_count": null,
   "metadata": {},
   "outputs": [],
   "source": []
  }
 ],
 "metadata": {
  "kernelspec": {
   "display_name": "base",
   "language": "python",
   "name": "python3"
  },
  "language_info": {
   "codemirror_mode": {
    "name": "ipython",
    "version": 3
   },
   "file_extension": ".py",
   "mimetype": "text/x-python",
   "name": "python",
   "nbconvert_exporter": "python",
   "pygments_lexer": "ipython3",
   "version": "3.12.2"
  }
 },
 "nbformat": 4,
 "nbformat_minor": 2
}
