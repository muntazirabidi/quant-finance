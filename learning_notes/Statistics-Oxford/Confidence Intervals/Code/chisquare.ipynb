{
 "cells": [
  {
   "cell_type": "code",
   "execution_count": 5,
   "metadata": {},
   "outputs": [
    {
     "ename": "KeyboardInterrupt",
     "evalue": "",
     "output_type": "error",
     "traceback": [
      "\u001b[0;31m---------------------------------------------------------------------------\u001b[0m",
      "\u001b[0;31mKeyboardInterrupt\u001b[0m                         Traceback (most recent call last)",
      "Cell \u001b[0;32mIn[5], line 28\u001b[0m\n\u001b[1;32m     25\u001b[0m n_b \u001b[38;5;241m=\u001b[39m n\n\u001b[1;32m     27\u001b[0m n \u001b[38;5;241m=\u001b[39m \u001b[38;5;241m10\u001b[39m\n\u001b[0;32m---> 28\u001b[0m \u001b[38;5;28;01mwhile\u001b[39;00m \u001b[43mcompute_width\u001b[49m\u001b[43m(\u001b[49m\u001b[38;5;124;43m\"\u001b[39;49m\u001b[38;5;124;43mc\u001b[39;49m\u001b[38;5;124;43m\"\u001b[39;49m\u001b[43m,\u001b[49m\u001b[43m \u001b[49m\u001b[43mn\u001b[49m\u001b[43m)\u001b[49m \u001b[38;5;241m>\u001b[39m \u001b[38;5;241m2\u001b[39m:\n\u001b[1;32m     29\u001b[0m     n \u001b[38;5;241m+\u001b[39m\u001b[38;5;241m=\u001b[39m \u001b[38;5;241m1\u001b[39m\n\u001b[1;32m     30\u001b[0m n_c \u001b[38;5;241m=\u001b[39m n\n",
      "Cell \u001b[0;32mIn[5], line 17\u001b[0m, in \u001b[0;36mcompute_width\u001b[0;34m(case, n)\u001b[0m\n\u001b[1;32m     15\u001b[0m     width \u001b[38;5;241m=\u001b[39m (\u001b[38;5;241m1\u001b[39m \u001b[38;5;241m/\u001b[39m chi2_low \u001b[38;5;241m-\u001b[39m \u001b[38;5;241m1\u001b[39m \u001b[38;5;241m/\u001b[39m chi2_high) \u001b[38;5;241m*\u001b[39m n \u001b[38;5;241m*\u001b[39m sigma2\n\u001b[1;32m     16\u001b[0m \u001b[38;5;28;01melif\u001b[39;00m case \u001b[38;5;241m==\u001b[39m \u001b[38;5;124m\"\u001b[39m\u001b[38;5;124mc\u001b[39m\u001b[38;5;124m\"\u001b[39m:\n\u001b[0;32m---> 17\u001b[0m     chi2_low, chi2_high \u001b[38;5;241m=\u001b[39m stats\u001b[38;5;241m.\u001b[39mchi2\u001b[38;5;241m.\u001b[39mppf(alpha1, \u001b[38;5;241m1\u001b[39m), \u001b[43mstats\u001b[49m\u001b[38;5;241;43m.\u001b[39;49m\u001b[43mchi2\u001b[49m\u001b[38;5;241;43m.\u001b[39;49m\u001b[43mppf\u001b[49m\u001b[43m(\u001b[49m\u001b[43malpha2\u001b[49m\u001b[43m,\u001b[49m\u001b[43m \u001b[49m\u001b[38;5;241;43m1\u001b[39;49m\u001b[43m)\u001b[49m\n\u001b[1;32m     18\u001b[0m     width \u001b[38;5;241m=\u001b[39m (\u001b[38;5;241m1\u001b[39m \u001b[38;5;241m/\u001b[39m chi2_low \u001b[38;5;241m-\u001b[39m \u001b[38;5;241m1\u001b[39m \u001b[38;5;241m/\u001b[39m chi2_high) \u001b[38;5;241m*\u001b[39m sigma2\n\u001b[1;32m     19\u001b[0m \u001b[38;5;28;01mreturn\u001b[39;00m width\n",
      "File \u001b[0;32m~/miniconda3/lib/python3.12/site-packages/scipy/stats/_distn_infrastructure.py:2244\u001b[0m, in \u001b[0;36mrv_continuous.ppf\u001b[0;34m(self, q, *args, **kwds)\u001b[0m\n\u001b[1;32m   2242\u001b[0m cond3 \u001b[38;5;241m=\u001b[39m cond0 \u001b[38;5;241m&\u001b[39m (q \u001b[38;5;241m==\u001b[39m \u001b[38;5;241m1\u001b[39m)\n\u001b[1;32m   2243\u001b[0m cond \u001b[38;5;241m=\u001b[39m cond0 \u001b[38;5;241m&\u001b[39m cond1\n\u001b[0;32m-> 2244\u001b[0m output \u001b[38;5;241m=\u001b[39m \u001b[43mnp\u001b[49m\u001b[38;5;241;43m.\u001b[39;49m\u001b[43mfull\u001b[49m\u001b[43m(\u001b[49m\u001b[43mshape\u001b[49m\u001b[43m(\u001b[49m\u001b[43mcond\u001b[49m\u001b[43m)\u001b[49m\u001b[43m,\u001b[49m\u001b[43m \u001b[49m\u001b[43mfill_value\u001b[49m\u001b[38;5;241;43m=\u001b[39;49m\u001b[38;5;28;43mself\u001b[39;49m\u001b[38;5;241;43m.\u001b[39;49m\u001b[43mbadvalue\u001b[49m\u001b[43m)\u001b[49m\n\u001b[1;32m   2246\u001b[0m lower_bound \u001b[38;5;241m=\u001b[39m _a \u001b[38;5;241m*\u001b[39m scale \u001b[38;5;241m+\u001b[39m loc\n\u001b[1;32m   2247\u001b[0m upper_bound \u001b[38;5;241m=\u001b[39m _b \u001b[38;5;241m*\u001b[39m scale \u001b[38;5;241m+\u001b[39m loc\n",
      "File \u001b[0;32m~/miniconda3/lib/python3.12/site-packages/numpy/core/numeric.py:330\u001b[0m, in \u001b[0;36mfull\u001b[0;34m(shape, fill_value, dtype, order, like)\u001b[0m\n\u001b[1;32m    328\u001b[0m     dtype \u001b[38;5;241m=\u001b[39m fill_value\u001b[38;5;241m.\u001b[39mdtype\n\u001b[1;32m    329\u001b[0m a \u001b[38;5;241m=\u001b[39m empty(shape, dtype, order)\n\u001b[0;32m--> 330\u001b[0m \u001b[43mmultiarray\u001b[49m\u001b[38;5;241;43m.\u001b[39;49m\u001b[43mcopyto\u001b[49m\u001b[43m(\u001b[49m\u001b[43ma\u001b[49m\u001b[43m,\u001b[49m\u001b[43m \u001b[49m\u001b[43mfill_value\u001b[49m\u001b[43m,\u001b[49m\u001b[43m \u001b[49m\u001b[43mcasting\u001b[49m\u001b[38;5;241;43m=\u001b[39;49m\u001b[38;5;124;43m'\u001b[39;49m\u001b[38;5;124;43munsafe\u001b[39;49m\u001b[38;5;124;43m'\u001b[39;49m\u001b[43m)\u001b[49m\n\u001b[1;32m    331\u001b[0m \u001b[38;5;28;01mreturn\u001b[39;00m a\n",
      "File \u001b[0;32m~/miniconda3/lib/python3.12/site-packages/numpy/core/multiarray.py:1080\u001b[0m, in \u001b[0;36mcopyto\u001b[0;34m(dst, src, casting, where)\u001b[0m\n\u001b[1;32m   1032\u001b[0m \u001b[38;5;250m    \u001b[39m\u001b[38;5;124;03m\"\"\"\u001b[39;00m\n\u001b[1;32m   1033\u001b[0m \u001b[38;5;124;03m    unravel_index(indices, shape, order='C')\u001b[39;00m\n\u001b[1;32m   1034\u001b[0m \n\u001b[0;32m   (...)\u001b[0m\n\u001b[1;32m   1075\u001b[0m \n\u001b[1;32m   1076\u001b[0m \u001b[38;5;124;03m    \"\"\"\u001b[39;00m\n\u001b[1;32m   1077\u001b[0m     \u001b[38;5;28;01mreturn\u001b[39;00m (indices,)\n\u001b[0;32m-> 1080\u001b[0m \u001b[38;5;129m@array_function_from_c_func_and_dispatcher\u001b[39m(_multiarray_umath\u001b[38;5;241m.\u001b[39mcopyto)\n\u001b[1;32m   1081\u001b[0m \u001b[38;5;28;01mdef\u001b[39;00m \u001b[38;5;21mcopyto\u001b[39m(dst, src, casting\u001b[38;5;241m=\u001b[39m\u001b[38;5;28;01mNone\u001b[39;00m, where\u001b[38;5;241m=\u001b[39m\u001b[38;5;28;01mNone\u001b[39;00m):\n\u001b[1;32m   1082\u001b[0m \u001b[38;5;250m    \u001b[39m\u001b[38;5;124;03m\"\"\"\u001b[39;00m\n\u001b[1;32m   1083\u001b[0m \u001b[38;5;124;03m    copyto(dst, src, casting='same_kind', where=True)\u001b[39;00m\n\u001b[1;32m   1084\u001b[0m \n\u001b[0;32m   (...)\u001b[0m\n\u001b[1;32m   1126\u001b[0m \n\u001b[1;32m   1127\u001b[0m \u001b[38;5;124;03m    \"\"\"\u001b[39;00m\n\u001b[1;32m   1128\u001b[0m     \u001b[38;5;28;01mreturn\u001b[39;00m (dst, src, where)\n",
      "\u001b[0;31mKeyboardInterrupt\u001b[0m: "
     ]
    }
   ],
   "source": [
    "import numpy as np\n",
    "import scipy.stats as stats\n",
    "\n",
    "# Given parameters\n",
    "alpha1, alpha2 = 0.05, 0.95\n",
    "sigma2 = 1\n",
    "\n",
    "# Function to compute expected width of confidence intervals\n",
    "def compute_width(case, n):\n",
    "    if case == \"a\":\n",
    "        chi2_low, chi2_high = stats.chi2.ppf(alpha1, n-1), stats.chi2.ppf(alpha2, n-1)\n",
    "        width = (1 / chi2_low - 1 / chi2_high) * (n-1) * sigma2\n",
    "    elif case == \"b\":\n",
    "        chi2_low, chi2_high = stats.chi2.ppf(alpha1, n), stats.chi2.ppf(alpha2, n)\n",
    "        width = (1 / chi2_low - 1 / chi2_high) * n * sigma2\n",
    "    elif case == \"c\":\n",
    "        chi2_low, chi2_high = stats.chi2.ppf(alpha1, 1), stats.chi2.ppf(alpha2, 1)\n",
    "        width = (1 / chi2_low - 1 / chi2_high) * sigma2\n",
    "    return width\n",
    "\n",
    "# Find n for Width_b and Width_c < 2\n",
    "n = 10\n",
    "while compute_width(\"b\", n) > 2:\n",
    "    n += 1\n",
    "n_b = n\n",
    "\n",
    "n = 10\n",
    "while compute_width(\"c\", n) > 2:\n",
    "    n += 1\n",
    "n_c = n\n",
    "\n",
    "# Expected widths for n=10\n",
    "width_a = compute_width(\"a\", 10)\n",
    "width_b = compute_width(\"b\", 10)\n",
    "width_c = compute_width(\"c\", 10)\n",
    "\n",
    "\n",
    "\n",
    "# Optimized approach: Use numpy to define a range of n and check widths in parallel\n",
    "def find_min_n_parallel(case, max_width=2, n_range=range(10, 1000)):\n",
    "    for n in n_range:\n",
    "        if compute_width(case, n) <= max_width:\n",
    "            return n\n",
    "    return None  # Return None if no value is found in the range\n",
    "\n",
    "# Find minimum n for cases b and c in a defined range\n",
    "n_range = np.arange(10, 1000, 1)\n",
    "n_b = find_min_n_parallel(\"b\", n_range=n_range)\n",
    "n_c = find_min_n_parallel(\"c\", n_range=n_range)\n",
    "\n",
    "width_a, width_b, width_c, n_b, n_c\n"
   ]
  },
  {
   "cell_type": "code",
   "execution_count": null,
   "metadata": {},
   "outputs": [],
   "source": []
  }
 ],
 "metadata": {
  "kernelspec": {
   "display_name": "base",
   "language": "python",
   "name": "python3"
  },
  "language_info": {
   "codemirror_mode": {
    "name": "ipython",
    "version": 3
   },
   "file_extension": ".py",
   "mimetype": "text/x-python",
   "name": "python",
   "nbconvert_exporter": "python",
   "pygments_lexer": "ipython3",
   "version": "3.12.2"
  }
 },
 "nbformat": 4,
 "nbformat_minor": 2
}
