{
 "cells": [
  {
   "cell_type": "code",
   "execution_count": null,
   "metadata": {},
   "outputs": [],
   "source": [
    "import numpy as np\n",
    "import matplotlib.pyplot as plt\n",
    "\n",
    "def plot_transformation():\n",
    "    # Create figure with two subplots\n",
    "    fig, (ax1, ax2) = plt.subplots(1, 2, figsize=(15, 6))\n",
    "    \n",
    "    # Plot 1: Original uniform prior on θ\n",
    "    theta = np.linspace(0.001, 0.999, 1000)\n",
    "    uniform_prior = np.ones_like(theta)\n",
    "    \n",
    "    ax1.plot(theta, uniform_prior, 'b-', label='Uniform prior')\n",
    "    ax1.set_title('Prior on θ')\n",
    "    ax1.set_xlabel('θ')\n",
    "    ax1.set_ylabel('Density')\n",
    "    ax1.grid(True, alpha=0.3)\n",
    "    \n",
    "    # Plot 2: Transformed prior on φ\n",
    "    phi = np.linspace(-6, 6, 1000)\n",
    "    transformed_prior = np.exp(phi) / (1 + np.exp(phi))**2\n",
    "    \n",
    "    ax2.plot(phi, transformed_prior, 'r-', label='Transformed prior')\n",
    "    ax2.axvline(x=0, color='k', linestyle='--', alpha=0.3)\n",
    "    ax2.fill_between(phi[(phi >= -3) & (phi <= 3)], \n",
    "                     transformed_prior[(phi >= -3) & (phi <= 3)],\n",
    "                     alpha=0.3, color='red')\n",
    "    ax2.set_title('Prior on φ (log-odds)')\n",
    "    ax2.set_xlabel('φ')\n",
    "    ax2.set_ylabel('Density')\n",
    "    ax2.grid(True, alpha=0.3)\n",
    "    \n",
    "    plt.tight_layout()\n",
    "    return fig\n",
    "\n",
    "plot_transformation()\n",
    "plt.show()"
   ]
  }
 ],
 "metadata": {
  "kernelspec": {
   "display_name": "base",
   "language": "python",
   "name": "python3"
  },
  "language_info": {
   "name": "python",
   "version": "3.12.2"
  }
 },
 "nbformat": 4,
 "nbformat_minor": 2
}
