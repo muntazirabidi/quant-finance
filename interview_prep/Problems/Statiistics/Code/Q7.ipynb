{
 "cells": [
  {
   "cell_type": "code",
   "execution_count": 1,
   "metadata": {},
   "outputs": [
    {
     "name": "stdout",
     "output_type": "stream",
     "text": [
      "Optimal Distribution:\n",
      "Urn 1: ['R', 'R', 'R', 'R', 'R']\n",
      "Urn 2: ['B', 'B', 'B', 'B', 'B']\n",
      "Maximum Winning Probability: 0.5000\n"
     ]
    }
   ],
   "source": []
  },
  {
   "cell_type": "code",
   "execution_count": 4,
   "metadata": {},
   "outputs": [
    {
     "name": "stdout",
     "output_type": "stream",
     "text": [
      "Optimal Distribution Found:\n",
      "\n",
      "Distribution Analysis:\n",
      "Urn 1: ['R', 'R', 'R', 'R', 'R']\n",
      "Composition: 0 blue, 5 red\n",
      "P(blue|urn1) = 0.0000\n",
      "Urn 2: ['B', 'B', 'B', 'B', 'B']\n",
      "Composition: 5 blue, 0 red\n",
      "P(blue|urn2) = 1.0000\n",
      "\n",
      "Analytical Winning Probability: 0.5000\n",
      "Simulated Winning Probability (100,000 trials): 0.5025\n"
     ]
    }
   ],
   "source": [
    "from typing import List, Tuple, Optional\n",
    "import itertools\n",
    "import random\n",
    "from collections import Counter\n",
    "\n",
    "def calculate_urn_probability(urn: List[str]) -> float:\n",
    "    \"\"\"\n",
    "    Calculate the probability of drawing a blue ball from an urn.\n",
    "    \n",
    "    Args:\n",
    "        urn: List of balls where 'B' represents blue and 'R' represents red\n",
    "        \n",
    "    Returns:\n",
    "        Probability of drawing a blue ball\n",
    "    \"\"\"\n",
    "    if not urn:\n",
    "        return 0.0\n",
    "    return urn.count('B') / len(urn)\n",
    "\n",
    "def winning_probability(urn1: List[str], urn2: List[str]) -> float:\n",
    "    \"\"\"\n",
    "    Calculate the overall probability of winning by drawing a blue ball from either urn.\n",
    "    \n",
    "    Args:\n",
    "        urn1: List of balls in first urn\n",
    "        urn2: List of balls in second urn\n",
    "        \n",
    "    Returns:\n",
    "        Overall probability of winning\n",
    "    \"\"\"\n",
    "    # Ensure no empty urns\n",
    "    if not urn1 or not urn2:\n",
    "        return 0.0\n",
    "        \n",
    "    p_blue_urn1 = calculate_urn_probability(urn1)\n",
    "    p_blue_urn2 = calculate_urn_probability(urn2)\n",
    "    \n",
    "    # Each urn is chosen with probability 0.5\n",
    "    return 0.5 * p_blue_urn1 + 0.5 * p_blue_urn2\n",
    "\n",
    "def find_optimal_distribution(red_balls: int, blue_balls: int) -> Tuple[List[str], List[str], float]:\n",
    "    \"\"\"\n",
    "    Find the optimal distribution of balls between two urns to maximize winning probability.\n",
    "    \n",
    "    Args:\n",
    "        red_balls: Number of red balls\n",
    "        blue_balls: Number of blue balls\n",
    "        \n",
    "    Returns:\n",
    "        Tuple containing (urn1, urn2, maximum probability)\n",
    "    \"\"\"\n",
    "    balls = ['R'] * red_balls + ['B'] * blue_balls\n",
    "    max_probability = 0.0\n",
    "    optimal_distribution = None\n",
    "    \n",
    "    # Try all possible ways to split the balls between urns\n",
    "    for split in itertools.combinations(range(red_balls + blue_balls), (red_balls + blue_balls) // 2):\n",
    "        urn1 = [balls[i] for i in split]\n",
    "        urn2 = [balls[i] for i in range(red_balls + blue_balls) if i not in split]\n",
    "        \n",
    "        prob = winning_probability(urn1, urn2)\n",
    "        if prob > max_probability:\n",
    "            max_probability = prob\n",
    "            optimal_distribution = (urn1, urn2)\n",
    "    \n",
    "    return optimal_distribution[0], optimal_distribution[1], max_probability\n",
    "\n",
    "def simulate_game(urn1: List[str], urn2: List[str], num_trials: int = 10000) -> float:\n",
    "    \"\"\"\n",
    "    Simulate the game many times to verify our probability calculations.\n",
    "    \n",
    "    Args:\n",
    "        urn1: List of balls in first urn\n",
    "        urn2: List of balls in second urn\n",
    "        num_trials: Number of simulation trials\n",
    "        \n",
    "    Returns:\n",
    "        Simulated probability of winning\n",
    "    \"\"\"\n",
    "    wins = 0\n",
    "    \n",
    "    for _ in range(num_trials):\n",
    "        # Choose an urn randomly\n",
    "        chosen_urn = urn1 if random.random() < 0.5 else urn2\n",
    "        # Draw a ball randomly\n",
    "        drawn_ball = random.choice(chosen_urn)\n",
    "        if drawn_ball == 'B':\n",
    "            wins += 1\n",
    "            \n",
    "    return wins / num_trials\n",
    "\n",
    "def analyze_distribution(urn1: List[str], urn2: List[str]) -> None:\n",
    "    \"\"\"\n",
    "    Print analysis of a given distribution including composition and probabilities.\n",
    "    \n",
    "    Args:\n",
    "        urn1: List of balls in first urn\n",
    "        urn2: List of balls in second urn\n",
    "    \"\"\"\n",
    "    print(\"\\nDistribution Analysis:\")\n",
    "    for i, urn in enumerate([urn1, urn2], 1):\n",
    "        counts = Counter(urn)\n",
    "        print(f\"Urn {i}: {urn}\")\n",
    "        print(f\"Composition: {counts['B']} blue, {counts['R']} red\")\n",
    "        print(f\"P(blue|urn{i}) = {calculate_urn_probability(urn):.4f}\")\n",
    "\n",
    "def main():\n",
    "    # Problem parameters\n",
    "    RED_BALLS = 5\n",
    "    BLUE_BALLS = 5\n",
    "    SIMULATION_TRIALS = 100000\n",
    "    \n",
    "    # Find optimal distribution\n",
    "    urn1, urn2, max_probability = find_optimal_distribution(RED_BALLS, BLUE_BALLS)\n",
    "    \n",
    "    # Print results\n",
    "    print(\"Optimal Distribution Found:\")\n",
    "    analyze_distribution(urn1, urn2)\n",
    "    print(f\"\\nAnalytical Winning Probability: {max_probability:.4f}\")\n",
    "    \n",
    "    # Verify with simulation\n",
    "    simulated_prob = simulate_game(urn1, urn2, SIMULATION_TRIALS)\n",
    "    print(f\"Simulated Winning Probability ({SIMULATION_TRIALS:,} trials): {simulated_prob:.4f}\")\n",
    "\n",
    "if __name__ == \"__main__\":\n",
    "    main()"
   ]
  },
  {
   "cell_type": "code",
   "execution_count": 10,
   "metadata": {},
   "outputs": [
    {
     "name": "stdout",
     "output_type": "stream",
     "text": [
      "Analysis of Different Distributions:\n",
      "--------------------------------------------------\n",
      "\n",
      "Distribution 1:\n",
      "Urn 1: ['B', 'B', 'B', 'B', 'B']\n",
      "Urn 2: ['R', 'R', 'R', 'R', 'R']\n",
      "Analytical probability: 0.5000\n",
      "Simulated probability:  0.5024\n",
      "\n",
      "Distribution 2:\n",
      "Urn 1: ['B', 'B', 'B', 'B']\n",
      "Urn 2: ['B', 'R', 'R', 'R', 'R', 'R']\n",
      "Analytical probability: 0.5833\n",
      "Simulated probability:  0.5860\n",
      "\n",
      "Distribution 3:\n",
      "Urn 1: ['B', 'B', 'B']\n",
      "Urn 2: ['B', 'B', 'R', 'R', 'R', 'R', 'R']\n",
      "Analytical probability: 0.6429\n",
      "Simulated probability:  0.6452\n",
      "\n",
      "Distribution 4:\n",
      "Urn 1: ['B', 'B']\n",
      "Urn 2: ['B', 'B', 'B', 'R', 'R', 'R', 'R', 'R']\n",
      "Analytical probability: 0.6875\n",
      "Simulated probability:  0.6846\n",
      "\n",
      "Distribution 5:\n",
      "Urn 1: ['B']\n",
      "Urn 2: ['B', 'B', 'B', 'B', 'R', 'R', 'R', 'R', 'R']\n",
      "Analytical probability: 0.7222\n",
      "Simulated probability:  0.7202\n"
     ]
    }
   ],
   "source": [
    "from typing import List, Tuple\n",
    "import random\n",
    "\n",
    "def analyze_distribution(urn1: List[str], urn2: List[str], num_trials: int = 100000) -> Tuple[float, float]:\n",
    "    \"\"\"\n",
    "    Analyze a distribution both analytically and through simulation.\n",
    "    Returns (analytical_prob, simulated_prob)\n",
    "    \"\"\"\n",
    "    # Analytical probability\n",
    "    p_blue_urn1 = urn1.count('B') / len(urn1)\n",
    "    p_blue_urn2 = urn2.count('B') / len(urn2)\n",
    "    analytical_prob = 0.5 * p_blue_urn1 + 0.5 * p_blue_urn2\n",
    "    \n",
    "    # Simulation\n",
    "    wins = 0\n",
    "    for _ in range(num_trials):\n",
    "        chosen_urn = urn1 if random.random() < 0.5 else urn2\n",
    "        if random.choice(chosen_urn) == 'B':\n",
    "            wins += 1\n",
    "    simulated_prob = wins / num_trials\n",
    "    \n",
    "    return analytical_prob, simulated_prob\n",
    "\n",
    "# Test all distributions\n",
    "distributions = [\n",
    "    # Even split\n",
    "    (['B','B','B','B','B'], ['R','R','R','R','R']),\n",
    "    # 4B, (1B+5R)\n",
    "    (['B','B','B','B'], ['B','R','R','R','R','R']),\n",
    "    # 3B, (2B+5R)\n",
    "    (['B','B','B'], ['B','B','R','R','R','R','R']),\n",
    "    # 2B, (3B+5R)\n",
    "    (['B','B'], ['B','B','B','R','R','R','R','R']),\n",
    "    # 1B, (4B+5R)\n",
    "    (['B'], ['B','B','B','B','R','R','R','R','R'])\n",
    "]\n",
    "\n",
    "print(\"Analysis of Different Distributions:\")\n",
    "print(\"-\" * 50)\n",
    "for i, (urn1, urn2) in enumerate(distributions):\n",
    "    analytical, simulated = analyze_distribution(urn1, urn2)\n",
    "    print(f\"\\nDistribution {i+1}:\")\n",
    "    print(f\"Urn 1: {urn1}\")\n",
    "    print(f\"Urn 2: {urn2}\")\n",
    "    print(f\"Analytical probability: {analytical:.4f}\")\n",
    "    print(f\"Simulated probability:  {simulated:.4f}\")"
   ]
  },
  {
   "cell_type": "code",
   "execution_count": 6,
   "metadata": {},
   "outputs": [
    {
     "data": {
      "text/plain": [
       "0.7222222222222222"
      ]
     },
     "execution_count": 6,
     "metadata": {},
     "output_type": "execute_result"
    }
   ],
   "source": [
    "13/18"
   ]
  },
  {
   "cell_type": "code",
   "execution_count": 9,
   "metadata": {},
   "outputs": [
    {
     "data": {
      "text/plain": [
       "[0.5, 0.5833333333333334, 0.5714285714285714, 0.6875, 0.7222222222222222]"
      ]
     },
     "execution_count": 9,
     "metadata": {},
     "output_type": "execute_result"
    }
   ],
   "source": [
    "[1/2, 7/12, 8/14, 11/16, 13/18]"
   ]
  },
  {
   "cell_type": "code",
   "execution_count": 12,
   "metadata": {},
   "outputs": [
    {
     "name": "stdout",
     "output_type": "stream",
     "text": [
      "Finding best distribution...\n",
      "Found better distribution:\n",
      "Urn 1: ['R']\n",
      "Urn 2: ['R', 'R', 'R', 'R', 'B', 'B', 'B', 'B', 'B']\n",
      "Probability: 0.2778\n",
      "\n",
      "Found better distribution:\n",
      "Urn 1: ['B']\n",
      "Urn 2: ['R', 'R', 'R', 'R', 'R', 'B', 'B', 'B', 'B']\n",
      "Probability: 0.7222\n",
      "\n",
      "\n",
      "Final Best Distribution:\n",
      "Urn 1: ['B']\n",
      "Urn 2: ['R', 'R', 'R', 'R', 'R', 'B', 'B', 'B', 'B']\n",
      "Winning Probability: 0.7222\n"
     ]
    }
   ],
   "source": [
    "from itertools import combinations\n",
    "\n",
    "def calculate_win_probability(urn1, urn2):\n",
    "    \"\"\"\n",
    "    Calculate probability of winning (drawing a blue ball) when choosing an urn at random.\n",
    "    Each urn must have at least one ball.\n",
    "    \"\"\"\n",
    "    # Guard against empty urns\n",
    "    if not urn1 or not urn2:\n",
    "        return 0.0\n",
    "    \n",
    "    prob_blue_urn1 = urn1.count('B') / len(urn1)\n",
    "    prob_blue_urn2 = urn2.count('B') / len(urn2)\n",
    "    \n",
    "  \n",
    "    return 0.5 * prob_blue_urn1 + 0.5 * prob_blue_urn2\n",
    "\n",
    "def find_best_distribution(num_red, num_blue):\n",
    "    \"\"\"\n",
    "    Find the distribution of balls that gives the highest probability of winning.\n",
    "    Strategy: Try all possible ways to split the balls between urns.\n",
    "    \"\"\"\n",
    "    best_probability = 0\n",
    "    best_distribution = None\n",
    "    \n",
    "    # Create the total set of balls we have\n",
    "    all_balls = ['R'] * num_red + ['B'] * num_blue\n",
    "    total_balls = len(all_balls)\n",
    "    \n",
    "    # Try putting different numbers of balls in first urn\n",
    "    # Note: We need at least 1 ball in each urn\n",
    "    for urn1_size in range(1, total_balls):\n",
    "        # For each size, try all possible combinations of balls in urn1\n",
    "        \n",
    "        for urn1_balls in combinations(range(total_balls), urn1_size):\n",
    "            # Create urn1 and urn2 based on this selection\n",
    "            urn1 = []\n",
    "            urn2 = all_balls.copy()  # Start with all balls in urn2\n",
    "            \n",
    "            # Move selected balls to urn1\n",
    "            for index in urn1_balls:\n",
    "                urn1.append(all_balls[index])\n",
    "                urn2.remove(all_balls[index])\n",
    "            \n",
    "            # Calculate probability for this distribution\n",
    "            prob = calculate_win_probability(urn1, urn2)\n",
    "            \n",
    "            # Update best if this is better\n",
    "            if prob > best_probability:\n",
    "                best_probability = prob\n",
    "                best_distribution = (urn1.copy(), urn2.copy())\n",
    "                \n",
    "                # Print progress to show our thinking\n",
    "                print(f\"Found better distribution:\")\n",
    "                print(f\"Urn 1: {urn1}\")\n",
    "                print(f\"Urn 2: {urn2}\")\n",
    "                print(f\"Probability: {prob:.4f}\")\n",
    "                print()\n",
    "    \n",
    "    return best_distribution, best_probability\n",
    "\n",
    "# Test the solution\n",
    "if __name__ == \"__main__\":\n",
    "    # Problem parameters\n",
    "    RED_BALLS = 5\n",
    "    BLUE_BALLS = 5\n",
    "    \n",
    "    print(\"Finding best distribution...\")\n",
    "    (urn1, urn2), probability = find_best_distribution(RED_BALLS, BLUE_BALLS)\n",
    "    \n",
    "    print(\"\\nFinal Best Distribution:\")\n",
    "    print(f\"Urn 1: {urn1}\")\n",
    "    print(f\"Urn 2: {urn2}\")\n",
    "    print(f\"Winning Probability: {probability:.4f}\")"
   ]
  },
  {
   "cell_type": "code",
   "execution_count": 18,
   "metadata": {},
   "outputs": [
    {
     "data": {
      "text/plain": [
       "0.10700000000000001"
      ]
     },
     "execution_count": 18,
     "metadata": {},
     "output_type": "execute_result"
    }
   ],
   "source": [
    "(0.8 * 0.01 + 0.1 * 0.99)"
   ]
  },
  {
   "cell_type": "code",
   "execution_count": 17,
   "metadata": {},
   "outputs": [
    {
     "data": {
      "text/plain": [
       "0.07476635514018691"
      ]
     },
     "execution_count": 17,
     "metadata": {},
     "output_type": "execute_result"
    }
   ],
   "source": [
    "0.8 * 0.01 / (0.8 * 0.01 + 0.1 * 0.99)"
   ]
  },
  {
   "cell_type": "code",
   "execution_count": null,
   "metadata": {},
   "outputs": [],
   "source": []
  }
 ],
 "metadata": {
  "kernelspec": {
   "display_name": "base",
   "language": "python",
   "name": "python3"
  },
  "language_info": {
   "codemirror_mode": {
    "name": "ipython",
    "version": 3
   },
   "file_extension": ".py",
   "mimetype": "text/x-python",
   "name": "python",
   "nbconvert_exporter": "python",
   "pygments_lexer": "ipython3",
   "version": "3.12.2"
  }
 },
 "nbformat": 4,
 "nbformat_minor": 2
}
