{
 "cells": [
  {
   "cell_type": "code",
   "execution_count": null,
   "metadata": {},
   "outputs": [],
   "source": [
    "import itertools\n",
    "\n",
    "# Define the number of red and blue balls\n",
    "red_balls = 5\n",
    "blue_balls = 5\n",
    "\n",
    "# Function to calculate the probability of winning\n",
    "def winning_probability(urn1, urn2):\n",
    "    # Calculate probabilities for each urn\n",
    "    urn1_blue = urn1.count(\"B\")\n",
    "    urn1_total = len(urn1)\n",
    "    urn2_blue = urn2.count(\"B\")\n",
    "    urn2_total = len(urn2)\n",
    "    \n",
    "    # Ensure no empty urns\n",
    "    if urn1_total == 0 or urn2_total == 0:\n",
    "        return 0\n",
    "    \n",
    "    # Calculate probabilities\n",
    "    p_blue_urn1 = urn1_blue / urn1_total\n",
    "    p_blue_urn2 = urn2_blue / urn2_total\n",
    "    \n",
    "    # Overall probability of winning\n",
    "    return 0.5 * p_blue_urn1 + 0.5 * p_blue_urn2\n",
    "\n",
    "# Generate all possible ways to distribute the balls\n",
    "balls = [\"R\"] * red_balls + [\"B\"] * blue_balls\n",
    "max_probability = 0\n",
    "optimal_distribution = None\n",
    "\n",
    "for split in itertools.combinations(range(10), 5):  # Choose 5 balls for the first urn\n",
    "    urn1 = [balls[i] for i in split]\n",
    "    urn2 = [balls[i] for i in range(10) if i not in split]\n",
    "    \n",
    "    prob = winning_probability(urn1, urn2)\n",
    "    if prob > max_probability:\n",
    "        max_probability = prob\n",
    "        optimal_distribution = (urn1, urn2)\n",
    "\n",
    "# Output the result\n",
    "urn1, urn2 = optimal_distribution\n",
    "print(f\"Optimal Distribution:\")\n",
    "print(f\"Urn 1: {urn1}\")\n",
    "print(f\"Urn 2: {urn2}\")\n",
    "print(f\"Maximum Winning Probability: {max_probability:.4f}\")\n"
   ]
  }
 ],
 "metadata": {
  "language_info": {
   "name": "python"
  }
 },
 "nbformat": 4,
 "nbformat_minor": 2
}
